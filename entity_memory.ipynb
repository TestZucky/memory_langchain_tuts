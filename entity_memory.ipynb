{
 "cells": [
  {
   "cell_type": "markdown",
   "metadata": {},
   "source": [
    "### Entity\n",
    "\n",
    "Entity memory remembers given facts about specific entities in a conversation. It extracts information on entities (using an LLM) and builds up its knowledge about that entity over time (also using an LLM)."
   ]
  },
  {
   "cell_type": "code",
   "execution_count": 1,
   "metadata": {},
   "outputs": [],
   "source": [
    "from langchain.memory import ConversationEntityMemory"
   ]
  },
  {
   "cell_type": "code",
   "execution_count": 40,
   "metadata": {},
   "outputs": [],
   "source": [
    "from langchain_openai import ChatOpenAI\n",
    "import os\n",
    "from config import Config\n",
    "\n",
    "llm_openai = ChatOpenAI(api_key=Config.OPEN_AI_KEY, model=\"gpt-3.5-turbo-0613\")"
   ]
  },
  {
   "cell_type": "code",
   "execution_count": 41,
   "metadata": {},
   "outputs": [],
   "source": [
    "memory = ConversationEntityMemory(llm=llm_openai)"
   ]
  },
  {
   "cell_type": "code",
   "execution_count": 42,
   "metadata": {},
   "outputs": [
    {
     "data": {
      "text/plain": [
       "{'history': '', 'entities': {'Deven': '', 'Sam': ''}}"
      ]
     },
     "execution_count": 42,
     "metadata": {},
     "output_type": "execute_result"
    }
   ],
   "source": [
    "user_input = {\"input\": \"Deven & Sam are working on a hackathon project\"}\n",
    "memory.load_memory_variables(user_input)"
   ]
  },
  {
   "cell_type": "code",
   "execution_count": 43,
   "metadata": {},
   "outputs": [],
   "source": [
    "memory.save_context(\n",
    "    user_input,\n",
    "    {\"output\": \" That sounds like a great project! What kind of project are they working on?\"}\n",
    ")"
   ]
  },
  {
   "cell_type": "code",
   "execution_count": 44,
   "metadata": {},
   "outputs": [
    {
     "data": {
      "text/plain": [
       "{'history': 'Human: Deven & Sam are working on a hackathon project\\nAI:  That sounds like a great project! What kind of project are they working on?',\n",
       " 'entities': {'Sam': 'Sam is currently working on a hackathon project with Deven.'}}"
      ]
     },
     "execution_count": 44,
     "metadata": {},
     "output_type": "execute_result"
    }
   ],
   "source": [
    "memory.load_memory_variables({\"input\": 'who is Sam'})"
   ]
  },
  {
   "cell_type": "markdown",
   "metadata": {},
   "source": [
    "### Let's use it with chain"
   ]
  },
  {
   "cell_type": "code",
   "execution_count": 45,
   "metadata": {},
   "outputs": [],
   "source": [
    "from langchain.chains.conversation.base import ConversationChain\n",
    "from langchain.memory import ConversationEntityMemory\n",
    "from langchain.memory.prompt import ENTITY_MEMORY_CONVERSATION_TEMPLATE\n",
    "from pydantic import BaseModel\n",
    "from typing import List, Dict, Any"
   ]
  },
  {
   "cell_type": "code",
   "execution_count": 46,
   "metadata": {},
   "outputs": [],
   "source": [
    "conversation = ConversationChain(\n",
    "    llm=llm_openai,\n",
    "    verbose=True,\n",
    "    prompt=ENTITY_MEMORY_CONVERSATION_TEMPLATE,\n",
    "    memory=ConversationEntityMemory(llm=llm_openai)\n",
    ")"
   ]
  },
  {
   "cell_type": "code",
   "execution_count": 47,
   "metadata": {},
   "outputs": [
    {
     "data": {
      "text/plain": [
       "ConversationChain(memory=ConversationEntityMemory(llm=ChatOpenAI(client=<openai.resources.chat.completions.Completions object at 0x00000267A0EB68D0>, async_client=<openai.resources.chat.completions.AsyncCompletions object at 0x000002679EC6B550>, model_name='gpt-3.5-turbo-0613', openai_api_key=SecretStr('**********'), openai_proxy='')), verbose=True, prompt=PromptTemplate(input_variables=['entities', 'history', 'input'], template='You are an assistant to a human, powered by a large language model trained by OpenAI.\\n\\nYou are designed to be able to assist with a wide range of tasks, from answering simple questions to providing in-depth explanations and discussions on a wide range of topics. As a language model, you are able to generate human-like text based on the input you receive, allowing you to engage in natural-sounding conversations and provide responses that are coherent and relevant to the topic at hand.\\n\\nYou are constantly learning and improving, and your capabilities are constantly evolving. You are able to process and understand large amounts of text, and can use this knowledge to provide accurate and informative responses to a wide range of questions. You have access to some personalized information provided by the human in the Context section below. Additionally, you are able to generate your own text based on the input you receive, allowing you to engage in discussions and provide explanations and descriptions on a wide range of topics.\\n\\nOverall, you are a powerful tool that can help with a wide range of tasks and provide valuable insights and information on a wide range of topics. Whether the human needs help with a specific question or just wants to have a conversation about a particular topic, you are here to assist.\\n\\nContext:\\n{entities}\\n\\nCurrent conversation:\\n{history}\\nLast line:\\nHuman: {input}\\nYou:'), llm=ChatOpenAI(client=<openai.resources.chat.completions.Completions object at 0x00000267A0EB68D0>, async_client=<openai.resources.chat.completions.AsyncCompletions object at 0x000002679EC6B550>, model_name='gpt-3.5-turbo-0613', openai_api_key=SecretStr('**********'), openai_proxy=''))"
      ]
     },
     "execution_count": 47,
     "metadata": {},
     "output_type": "execute_result"
    }
   ],
   "source": [
    "conversation"
   ]
  },
  {
   "cell_type": "code",
   "execution_count": null,
   "metadata": {},
   "outputs": [],
   "source": [
    "# prompt=PromptTemplate(input_variables=['entities', 'history', 'input'], template='You are an assistant to a human, powered by a large language model trained by OpenAI.\\n\\nYou are designed to be able to assist with a wide range of tasks, from answering simple questions to providing in-depth explanations and discussions on a wide range of topics. As a language model, you are able to generate human-like text based on the input you receive, allowing you to engage in natural-sounding conversations and provide responses that are coherent and relevant to the topic at hand.\\n\\nYou are constantly learning and improving, and your capabilities are constantly evolving. You are able to process and understand large amounts of text, and can use this knowledge to provide accurate and informative responses to a wide range of questions. You have access to some personalized information provided by the human in the Context section below. Additionally, you are able to generate your own text based on the input you receive, allowing you to engage in discussions and provide explanations and descriptions on a wide range of topics.\\n\\nOverall, you are a powerful tool that can help with a wide range of tasks and provide valuable insights and information on a wide range of topics. Whether the human needs help with a specific question or just wants to have a conversation about a particular topic, you are here to assist.\\n\\nContext:\\n{entities}\\n\\nCurrent conversation:\\n{history}\\nLast line:\\nHuman: {input}\\nYou:')"
   ]
  },
  {
   "cell_type": "code",
   "execution_count": 48,
   "metadata": {},
   "outputs": [
    {
     "name": "stdout",
     "output_type": "stream",
     "text": [
      "\n",
      "\n",
      "\u001b[1m> Entering new ConversationChain chain...\u001b[0m\n",
      "Prompt after formatting:\n",
      "\u001b[32;1m\u001b[1;3mYou are an assistant to a human, powered by a large language model trained by OpenAI.\n",
      "\n",
      "You are designed to be able to assist with a wide range of tasks, from answering simple questions to providing in-depth explanations and discussions on a wide range of topics. As a language model, you are able to generate human-like text based on the input you receive, allowing you to engage in natural-sounding conversations and provide responses that are coherent and relevant to the topic at hand.\n",
      "\n",
      "You are constantly learning and improving, and your capabilities are constantly evolving. You are able to process and understand large amounts of text, and can use this knowledge to provide accurate and informative responses to a wide range of questions. You have access to some personalized information provided by the human in the Context section below. Additionally, you are able to generate your own text based on the input you receive, allowing you to engage in discussions and provide explanations and descriptions on a wide range of topics.\n",
      "\n",
      "Overall, you are a powerful tool that can help with a wide range of tasks and provide valuable insights and information on a wide range of topics. Whether the human needs help with a specific question or just wants to have a conversation about a particular topic, you are here to assist.\n",
      "\n",
      "Context:\n",
      "{'Deven': '', 'Sam': ''}\n",
      "\n",
      "Current conversation:\n",
      "\n",
      "Last line:\n",
      "Human: Deven & Sam are working on a hackathon project\n",
      "You:\u001b[0m\n",
      "\n",
      "\u001b[1m> Finished chain.\u001b[0m\n"
     ]
    },
    {
     "data": {
      "text/plain": [
       "{'input': 'Deven & Sam are working on a hackathon project',\n",
       " 'history': '',\n",
       " 'entities': {'Deven': '', 'Sam': ''},\n",
       " 'response': 'That sounds exciting! Hackathons are a great way to collaborate and work on innovative projects. Can you tell me more about what Deven and Sam are working on for their hackathon project?'}"
      ]
     },
     "execution_count": 48,
     "metadata": {},
     "output_type": "execute_result"
    }
   ],
   "source": [
    "conversation.invoke(input=\"Deven & Sam are working on a hackathon project\")"
   ]
  },
  {
   "cell_type": "code",
   "execution_count": 49,
   "metadata": {},
   "outputs": [
    {
     "data": {
      "text/plain": [
       "{'Deven': 'Deven is working on a hackathon project with Sam.',\n",
       " 'Sam': 'Sam is currently working on a hackathon project with Deven.'}"
      ]
     },
     "execution_count": 49,
     "metadata": {},
     "output_type": "execute_result"
    }
   ],
   "source": [
    "conversation.memory.entity_store.store"
   ]
  },
  {
   "cell_type": "code",
   "execution_count": 50,
   "metadata": {},
   "outputs": [
    {
     "name": "stdout",
     "output_type": "stream",
     "text": [
      "\n",
      "\n",
      "\u001b[1m> Entering new ConversationChain chain...\u001b[0m\n",
      "Prompt after formatting:\n",
      "\u001b[32;1m\u001b[1;3mYou are an assistant to a human, powered by a large language model trained by OpenAI.\n",
      "\n",
      "You are designed to be able to assist with a wide range of tasks, from answering simple questions to providing in-depth explanations and discussions on a wide range of topics. As a language model, you are able to generate human-like text based on the input you receive, allowing you to engage in natural-sounding conversations and provide responses that are coherent and relevant to the topic at hand.\n",
      "\n",
      "You are constantly learning and improving, and your capabilities are constantly evolving. You are able to process and understand large amounts of text, and can use this knowledge to provide accurate and informative responses to a wide range of questions. You have access to some personalized information provided by the human in the Context section below. Additionally, you are able to generate your own text based on the input you receive, allowing you to engage in discussions and provide explanations and descriptions on a wide range of topics.\n",
      "\n",
      "Overall, you are a powerful tool that can help with a wide range of tasks and provide valuable insights and information on a wide range of topics. Whether the human needs help with a specific question or just wants to have a conversation about a particular topic, you are here to assist.\n",
      "\n",
      "Context:\n",
      "{'Langchain': '', 'Deven': 'Deven is working on a hackathon project with Sam.', 'Sam': 'Sam is currently working on a hackathon project with Deven.'}\n",
      "\n",
      "Current conversation:\n",
      "Human: Deven & Sam are working on a hackathon project\n",
      "AI: That sounds exciting! Hackathons are a great way to collaborate and work on innovative projects. Can you tell me more about what Deven and Sam are working on for their hackathon project?\n",
      "Last line:\n",
      "Human: They are trying to add more complex memory structures to Langchain\n",
      "You:\u001b[0m\n",
      "\n",
      "\u001b[1m> Finished chain.\u001b[0m\n"
     ]
    },
    {
     "data": {
      "text/plain": [
       "{'input': 'They are trying to add more complex memory structures to Langchain',\n",
       " 'history': 'Human: Deven & Sam are working on a hackathon project\\nAI: That sounds exciting! Hackathons are a great way to collaborate and work on innovative projects. Can you tell me more about what Deven and Sam are working on for their hackathon project?',\n",
       " 'entities': {'Langchain': '',\n",
       "  'Deven': 'Deven is working on a hackathon project with Sam.',\n",
       "  'Sam': 'Sam is currently working on a hackathon project with Deven.'},\n",
       " 'response': \"That's interesting! Adding more complex memory structures to Langchain sounds like a challenging and ambitious goal for Deven and Sam's hackathon project. Memory structures play a crucial role in programming languages and can greatly impact the efficiency and performance of a system.\\n\\nIn the context of Langchain, I assume it is a programming language or a software project. By adding more complex memory structures, Deven and Sam might be aiming to enhance the capabilities of Langchain in terms of memory management, data structures, or even creating a more efficient runtime environment.\\n\\nMemory structures can refer to various concepts in computer science, such as arrays, linked lists, trees, stacks, queues, and more. These structures allow programmers to store and manage data in different ways, depending on the requirements of the project. More complex memory structures can offer additional functionalities and optimize the usage of memory resources.\\n\\nBy incorporating more complex memory structures into Langchain, Deven and Sam might be seeking to improve the language's ability to handle larger and more intricate data sets, increase its performance, and provide developers with more powerful tools for building sophisticated applications.\\n\\nIt's worth noting that implementing complex memory structures can be a challenging task, as it requires a deep understanding of the underlying programming language, data structures, and algorithms. Deven and Sam will likely need to consider factors such as memory allocation, deallocation, garbage collection, and the overall design and architecture of Langchain.\\n\\nI'm curious to know more about the specific memory structures they are planning to add and how they envision these structures benefiting Langchain. If you have any further details or questions, feel free to let me know!\"}"
      ]
     },
     "execution_count": 50,
     "metadata": {},
     "output_type": "execute_result"
    }
   ],
   "source": [
    "conversation.invoke(input=\"They are trying to add more complex memory structures to Langchain\")"
   ]
  },
  {
   "cell_type": "code",
   "execution_count": 51,
   "metadata": {},
   "outputs": [
    {
     "name": "stdout",
     "output_type": "stream",
     "text": [
      "\n",
      "\n",
      "\u001b[1m> Entering new ConversationChain chain...\u001b[0m\n",
      "Prompt after formatting:\n",
      "\u001b[32;1m\u001b[1;3mYou are an assistant to a human, powered by a large language model trained by OpenAI.\n",
      "\n",
      "You are designed to be able to assist with a wide range of tasks, from answering simple questions to providing in-depth explanations and discussions on a wide range of topics. As a language model, you are able to generate human-like text based on the input you receive, allowing you to engage in natural-sounding conversations and provide responses that are coherent and relevant to the topic at hand.\n",
      "\n",
      "You are constantly learning and improving, and your capabilities are constantly evolving. You are able to process and understand large amounts of text, and can use this knowledge to provide accurate and informative responses to a wide range of questions. You have access to some personalized information provided by the human in the Context section below. Additionally, you are able to generate your own text based on the input you receive, allowing you to engage in discussions and provide explanations and descriptions on a wide range of topics.\n",
      "\n",
      "Overall, you are a powerful tool that can help with a wide range of tasks and provide valuable insights and information on a wide range of topics. Whether the human needs help with a specific question or just wants to have a conversation about a particular topic, you are here to assist.\n",
      "\n",
      "Context:\n",
      "{}\n",
      "\n",
      "Current conversation:\n",
      "Human: Deven & Sam are working on a hackathon project\n",
      "AI: That sounds exciting! Hackathons are a great way to collaborate and work on innovative projects. Can you tell me more about what Deven and Sam are working on for their hackathon project?\n",
      "Human: They are trying to add more complex memory structures to Langchain\n",
      "AI: That's interesting! Adding more complex memory structures to Langchain sounds like a challenging and ambitious goal for Deven and Sam's hackathon project. Memory structures play a crucial role in programming languages and can greatly impact the efficiency and performance of a system.\n",
      "\n",
      "In the context of Langchain, I assume it is a programming language or a software project. By adding more complex memory structures, Deven and Sam might be aiming to enhance the capabilities of Langchain in terms of memory management, data structures, or even creating a more efficient runtime environment.\n",
      "\n",
      "Memory structures can refer to various concepts in computer science, such as arrays, linked lists, trees, stacks, queues, and more. These structures allow programmers to store and manage data in different ways, depending on the requirements of the project. More complex memory structures can offer additional functionalities and optimize the usage of memory resources.\n",
      "\n",
      "By incorporating more complex memory structures into Langchain, Deven and Sam might be seeking to improve the language's ability to handle larger and more intricate data sets, increase its performance, and provide developers with more powerful tools for building sophisticated applications.\n",
      "\n",
      "It's worth noting that implementing complex memory structures can be a challenging task, as it requires a deep understanding of the underlying programming language, data structures, and algorithms. Deven and Sam will likely need to consider factors such as memory allocation, deallocation, garbage collection, and the overall design and architecture of Langchain.\n",
      "\n",
      "I'm curious to know more about the specific memory structures they are planning to add and how they envision these structures benefiting Langchain. If you have any further details or questions, feel free to let me know!\n",
      "Last line:\n",
      "Human: They are adding in a key-value store for entities mentioned so far in the conversation.\n",
      "You:\u001b[0m\n",
      "\n",
      "\u001b[1m> Finished chain.\u001b[0m\n"
     ]
    },
    {
     "data": {
      "text/plain": [
       "{'input': 'They are adding in a key-value store for entities mentioned so far in the conversation.',\n",
       " 'history': \"Human: Deven & Sam are working on a hackathon project\\nAI: That sounds exciting! Hackathons are a great way to collaborate and work on innovative projects. Can you tell me more about what Deven and Sam are working on for their hackathon project?\\nHuman: They are trying to add more complex memory structures to Langchain\\nAI: That's interesting! Adding more complex memory structures to Langchain sounds like a challenging and ambitious goal for Deven and Sam's hackathon project. Memory structures play a crucial role in programming languages and can greatly impact the efficiency and performance of a system.\\n\\nIn the context of Langchain, I assume it is a programming language or a software project. By adding more complex memory structures, Deven and Sam might be aiming to enhance the capabilities of Langchain in terms of memory management, data structures, or even creating a more efficient runtime environment.\\n\\nMemory structures can refer to various concepts in computer science, such as arrays, linked lists, trees, stacks, queues, and more. These structures allow programmers to store and manage data in different ways, depending on the requirements of the project. More complex memory structures can offer additional functionalities and optimize the usage of memory resources.\\n\\nBy incorporating more complex memory structures into Langchain, Deven and Sam might be seeking to improve the language's ability to handle larger and more intricate data sets, increase its performance, and provide developers with more powerful tools for building sophisticated applications.\\n\\nIt's worth noting that implementing complex memory structures can be a challenging task, as it requires a deep understanding of the underlying programming language, data structures, and algorithms. Deven and Sam will likely need to consider factors such as memory allocation, deallocation, garbage collection, and the overall design and architecture of Langchain.\\n\\nI'm curious to know more about the specific memory structures they are planning to add and how they envision these structures benefiting Langchain. If you have any further details or questions, feel free to let me know!\",\n",
       " 'entities': {},\n",
       " 'response': \"That's an interesting addition! Adding a key-value store for entities mentioned so far in the conversation can provide a convenient way to store and retrieve information associated with specific entities. A key-value store is a data structure that allows you to store data as key-value pairs, where each key is unique and associated with a corresponding value.\\n\\nIn the context of Deven and Sam's hackathon project for Langchain, incorporating a key-value store can have several benefits. It can enable efficient storage and retrieval of information related to entities mentioned in the conversation. For example, if the conversation involves discussing various objects or entities, the key-value store can be used to associate relevant data or attributes with each entity.\\n\\nDevelopers can store information such as attributes, properties, or metadata about each entity as values in the key-value store, with the entity name or identifier serving as the key. This allows for quick access and retrieval of specific information associated with an entity, without the need to search through large data structures or perform complex queries.\\n\\nThe key-value store can be particularly useful for maintaining context and state throughout the conversation. By storing information about entities mentioned earlier, Deven and Sam can build a memory-like capability into their language, allowing it to remember and recall information from previous interactions.\\n\\nFor example, if the conversation involves discussing different people and their attributes, such as names, ages, or locations, the key-value store can store this information and retrieve it later when needed. This can enable more natural and context-aware conversations with the language system.\\n\\nImplementing a key-value store may involve designing appropriate data structures and algorithms to efficiently handle the storage and retrieval operations. Various techniques, such as hash tables, binary search trees, or even more advanced data structures like B-trees or LSM-trees, can be considered depending on the specific requirements and constraints of the project.\\n\\nOverall, incorporating a key-value store for entities mentioned in the conversation can enhance the memory and contextual capabilities of Langchain, allowing for more sophisticated and personalized interactions. It would be interesting to see how Deven and Sam integrate this feature into their project and how it enhances the overall experience of using Langchain.\"}"
      ]
     },
     "execution_count": 51,
     "metadata": {},
     "output_type": "execute_result"
    }
   ],
   "source": [
    "conversation.invoke(input=\"They are adding in a key-value store for entities mentioned so far in the conversation.\")"
   ]
  },
  {
   "cell_type": "code",
   "execution_count": 52,
   "metadata": {},
   "outputs": [
    {
     "name": "stdout",
     "output_type": "stream",
     "text": [
      "\n",
      "\n",
      "\u001b[1m> Entering new ConversationChain chain...\u001b[0m\n",
      "Prompt after formatting:\n",
      "\u001b[32;1m\u001b[1;3mYou are an assistant to a human, powered by a large language model trained by OpenAI.\n",
      "\n",
      "You are designed to be able to assist with a wide range of tasks, from answering simple questions to providing in-depth explanations and discussions on a wide range of topics. As a language model, you are able to generate human-like text based on the input you receive, allowing you to engage in natural-sounding conversations and provide responses that are coherent and relevant to the topic at hand.\n",
      "\n",
      "You are constantly learning and improving, and your capabilities are constantly evolving. You are able to process and understand large amounts of text, and can use this knowledge to provide accurate and informative responses to a wide range of questions. You have access to some personalized information provided by the human in the Context section below. Additionally, you are able to generate your own text based on the input you receive, allowing you to engage in discussions and provide explanations and descriptions on a wide range of topics.\n",
      "\n",
      "Overall, you are a powerful tool that can help with a wide range of tasks and provide valuable insights and information on a wide range of topics. Whether the human needs help with a specific question or just wants to have a conversation about a particular topic, you are here to assist.\n",
      "\n",
      "Context:\n",
      "{'Deven & Sam': ''}\n",
      "\n",
      "Current conversation:\n",
      "Human: Deven & Sam are working on a hackathon project\n",
      "AI: That sounds exciting! Hackathons are a great way to collaborate and work on innovative projects. Can you tell me more about what Deven and Sam are working on for their hackathon project?\n",
      "Human: They are trying to add more complex memory structures to Langchain\n",
      "AI: That's interesting! Adding more complex memory structures to Langchain sounds like a challenging and ambitious goal for Deven and Sam's hackathon project. Memory structures play a crucial role in programming languages and can greatly impact the efficiency and performance of a system.\n",
      "\n",
      "In the context of Langchain, I assume it is a programming language or a software project. By adding more complex memory structures, Deven and Sam might be aiming to enhance the capabilities of Langchain in terms of memory management, data structures, or even creating a more efficient runtime environment.\n",
      "\n",
      "Memory structures can refer to various concepts in computer science, such as arrays, linked lists, trees, stacks, queues, and more. These structures allow programmers to store and manage data in different ways, depending on the requirements of the project. More complex memory structures can offer additional functionalities and optimize the usage of memory resources.\n",
      "\n",
      "By incorporating more complex memory structures into Langchain, Deven and Sam might be seeking to improve the language's ability to handle larger and more intricate data sets, increase its performance, and provide developers with more powerful tools for building sophisticated applications.\n",
      "\n",
      "It's worth noting that implementing complex memory structures can be a challenging task, as it requires a deep understanding of the underlying programming language, data structures, and algorithms. Deven and Sam will likely need to consider factors such as memory allocation, deallocation, garbage collection, and the overall design and architecture of Langchain.\n",
      "\n",
      "I'm curious to know more about the specific memory structures they are planning to add and how they envision these structures benefiting Langchain. If you have any further details or questions, feel free to let me know!\n",
      "Human: They are adding in a key-value store for entities mentioned so far in the conversation.\n",
      "AI: That's an interesting addition! Adding a key-value store for entities mentioned so far in the conversation can provide a convenient way to store and retrieve information associated with specific entities. A key-value store is a data structure that allows you to store data as key-value pairs, where each key is unique and associated with a corresponding value.\n",
      "\n",
      "In the context of Deven and Sam's hackathon project for Langchain, incorporating a key-value store can have several benefits. It can enable efficient storage and retrieval of information related to entities mentioned in the conversation. For example, if the conversation involves discussing various objects or entities, the key-value store can be used to associate relevant data or attributes with each entity.\n",
      "\n",
      "Developers can store information such as attributes, properties, or metadata about each entity as values in the key-value store, with the entity name or identifier serving as the key. This allows for quick access and retrieval of specific information associated with an entity, without the need to search through large data structures or perform complex queries.\n",
      "\n",
      "The key-value store can be particularly useful for maintaining context and state throughout the conversation. By storing information about entities mentioned earlier, Deven and Sam can build a memory-like capability into their language, allowing it to remember and recall information from previous interactions.\n",
      "\n",
      "For example, if the conversation involves discussing different people and their attributes, such as names, ages, or locations, the key-value store can store this information and retrieve it later when needed. This can enable more natural and context-aware conversations with the language system.\n",
      "\n",
      "Implementing a key-value store may involve designing appropriate data structures and algorithms to efficiently handle the storage and retrieval operations. Various techniques, such as hash tables, binary search trees, or even more advanced data structures like B-trees or LSM-trees, can be considered depending on the specific requirements and constraints of the project.\n",
      "\n",
      "Overall, incorporating a key-value store for entities mentioned in the conversation can enhance the memory and contextual capabilities of Langchain, allowing for more sophisticated and personalized interactions. It would be interesting to see how Deven and Sam integrate this feature into their project and how it enhances the overall experience of using Langchain.\n",
      "Last line:\n",
      "Human: What do you know about Deven & Sam?\n",
      "You:\u001b[0m\n",
      "\n",
      "\u001b[1m> Finished chain.\u001b[0m\n"
     ]
    },
    {
     "data": {
      "text/plain": [
       "{'input': 'What do you know about Deven & Sam?',\n",
       " 'history': \"Human: Deven & Sam are working on a hackathon project\\nAI: That sounds exciting! Hackathons are a great way to collaborate and work on innovative projects. Can you tell me more about what Deven and Sam are working on for their hackathon project?\\nHuman: They are trying to add more complex memory structures to Langchain\\nAI: That's interesting! Adding more complex memory structures to Langchain sounds like a challenging and ambitious goal for Deven and Sam's hackathon project. Memory structures play a crucial role in programming languages and can greatly impact the efficiency and performance of a system.\\n\\nIn the context of Langchain, I assume it is a programming language or a software project. By adding more complex memory structures, Deven and Sam might be aiming to enhance the capabilities of Langchain in terms of memory management, data structures, or even creating a more efficient runtime environment.\\n\\nMemory structures can refer to various concepts in computer science, such as arrays, linked lists, trees, stacks, queues, and more. These structures allow programmers to store and manage data in different ways, depending on the requirements of the project. More complex memory structures can offer additional functionalities and optimize the usage of memory resources.\\n\\nBy incorporating more complex memory structures into Langchain, Deven and Sam might be seeking to improve the language's ability to handle larger and more intricate data sets, increase its performance, and provide developers with more powerful tools for building sophisticated applications.\\n\\nIt's worth noting that implementing complex memory structures can be a challenging task, as it requires a deep understanding of the underlying programming language, data structures, and algorithms. Deven and Sam will likely need to consider factors such as memory allocation, deallocation, garbage collection, and the overall design and architecture of Langchain.\\n\\nI'm curious to know more about the specific memory structures they are planning to add and how they envision these structures benefiting Langchain. If you have any further details or questions, feel free to let me know!\\nHuman: They are adding in a key-value store for entities mentioned so far in the conversation.\\nAI: That's an interesting addition! Adding a key-value store for entities mentioned so far in the conversation can provide a convenient way to store and retrieve information associated with specific entities. A key-value store is a data structure that allows you to store data as key-value pairs, where each key is unique and associated with a corresponding value.\\n\\nIn the context of Deven and Sam's hackathon project for Langchain, incorporating a key-value store can have several benefits. It can enable efficient storage and retrieval of information related to entities mentioned in the conversation. For example, if the conversation involves discussing various objects or entities, the key-value store can be used to associate relevant data or attributes with each entity.\\n\\nDevelopers can store information such as attributes, properties, or metadata about each entity as values in the key-value store, with the entity name or identifier serving as the key. This allows for quick access and retrieval of specific information associated with an entity, without the need to search through large data structures or perform complex queries.\\n\\nThe key-value store can be particularly useful for maintaining context and state throughout the conversation. By storing information about entities mentioned earlier, Deven and Sam can build a memory-like capability into their language, allowing it to remember and recall information from previous interactions.\\n\\nFor example, if the conversation involves discussing different people and their attributes, such as names, ages, or locations, the key-value store can store this information and retrieve it later when needed. This can enable more natural and context-aware conversations with the language system.\\n\\nImplementing a key-value store may involve designing appropriate data structures and algorithms to efficiently handle the storage and retrieval operations. Various techniques, such as hash tables, binary search trees, or even more advanced data structures like B-trees or LSM-trees, can be considered depending on the specific requirements and constraints of the project.\\n\\nOverall, incorporating a key-value store for entities mentioned in the conversation can enhance the memory and contextual capabilities of Langchain, allowing for more sophisticated and personalized interactions. It would be interesting to see how Deven and Sam integrate this feature into their project and how it enhances the overall experience of using Langchain.\",\n",
       " 'entities': {'Deven & Sam': ''},\n",
       " 'response': \"As an AI language model, I don't have access to personal information about individuals unless it has been shared with me in the course of our conversation. I can only provide general information and insights based on the input provided to me. Is there anything specific you would like to know about Deven and Sam?\"}"
      ]
     },
     "execution_count": 52,
     "metadata": {},
     "output_type": "execute_result"
    }
   ],
   "source": [
    "conversation.invoke(input=\"What do you know about Deven & Sam?\")"
   ]
  },
  {
   "cell_type": "markdown",
   "metadata": {},
   "source": [
    "We can also inspect the memory store directly. In the following examples, we look at it directly, and then go through some examples of adding information and watch how it changes."
   ]
  },
  {
   "cell_type": "code",
   "execution_count": 53,
   "metadata": {},
   "outputs": [
    {
     "name": "stdout",
     "output_type": "stream",
     "text": [
      "{'Deven': 'Deven is working on a hackathon project with Sam and their goal is '\n",
      "          'to add more complex memory structures to Langchain.',\n",
      " 'Deven & Sam': 'Deven and Sam are individuals involved in a hackathon project '\n",
      "                'for Langchain, and they are adding a key-value store for '\n",
      "                'entities mentioned in the conversation to enhance the memory '\n",
      "                'and contextual capabilities of the language.',\n",
      " 'Langchain': 'Langchain is a programming language or software project that '\n",
      "              'Deven and Sam are working on to add more complex memory '\n",
      "              'structures.',\n",
      " 'Sam': 'Sam is currently working on a hackathon project with Deven, focusing '\n",
      "        'on adding more complex memory structures to Langchain.'}\n"
     ]
    }
   ],
   "source": [
    "from pprint import pprint\n",
    "pprint(conversation.memory.entity_store.store)"
   ]
  }
 ],
 "metadata": {
  "kernelspec": {
   "display_name": "Python 3",
   "language": "python",
   "name": "python3"
  },
  "language_info": {
   "codemirror_mode": {
    "name": "ipython",
    "version": 3
   },
   "file_extension": ".py",
   "mimetype": "text/x-python",
   "name": "python",
   "nbconvert_exporter": "python",
   "pygments_lexer": "ipython3",
   "version": "3.11.4"
  }
 },
 "nbformat": 4,
 "nbformat_minor": 2
}
